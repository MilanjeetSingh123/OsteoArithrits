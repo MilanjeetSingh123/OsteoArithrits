{
 "cells": [
  {
   "cell_type": "code",
   "execution_count": 1,
   "id": "c1f66480",
   "metadata": {},
   "outputs": [],
   "source": [
    "import numpy as np\n",
    "import pandas as pd\n",
    "import matplotlib.pyplot as plt\n",
    "import tensorflow as tf\n",
    "from tensorflow import keras"
   ]
  },
  {
   "cell_type": "code",
   "execution_count": 2,
   "id": "dbc41aec",
   "metadata": {},
   "outputs": [],
   "source": [
    "np.random.seed(42)\n",
    "tf.random.set_seed(42)"
   ]
  },
  {
   "cell_type": "code",
   "execution_count": 3,
   "id": "13bf6b4e",
   "metadata": {},
   "outputs": [],
   "source": [
    "train_dir = r'C:\\Users\\Milanjeet Singh\\Desktop\\Assignment\\Osteoarthritis_Assignment_dataset\\train'\n",
    "test_dir = r'C:\\Users\\Milanjeet Singh\\Desktop\\Assignment\\Osteoarthritis_Assignment_dataset\\test'\n",
    "val_dir = r'C:\\Users\\Milanjeet Singh\\Desktop\\Assignment\\Osteoarthritis_Assignment_dataset\\Valid'"
   ]
  },
  {
   "cell_type": "code",
   "execution_count": 4,
   "id": "84f4b05e",
   "metadata": {},
   "outputs": [],
   "source": [
    "#creating the pixel intensity array from the given pictures\n",
    "from tensorflow.keras.preprocessing.image import ImageDataGenerator"
   ]
  },
  {
   "cell_type": "code",
   "execution_count": 5,
   "id": "7c029322",
   "metadata": {},
   "outputs": [],
   "source": [
    "train_gen = ImageDataGenerator(rescale = 1/255.,\n",
    "                               rotation_range = 40,\n",
    "                               width_shift_range = 0.2,\n",
    "                               height_shift_range = 0.2,\n",
    "                              shear_range = 0.2,\n",
    "                              zoom_range = 0.2,\n",
    "                              horizontal_flip = True)\n",
    "test_gen = ImageDataGenerator(rescale = 1/255.)\n",
    "val_gen = ImageDataGenerator(rescale = 1/255.)"
   ]
  },
  {
   "cell_type": "code",
   "execution_count": 6,
   "id": "8ce6f3a7",
   "metadata": {},
   "outputs": [
    {
     "name": "stdout",
     "output_type": "stream",
     "text": [
      "Found 2350 images belonging to 2 classes.\n"
     ]
    }
   ],
   "source": [
    "train_data = train_gen.flow_from_directory(train_dir,\n",
    "                                          batch_size = 10,\n",
    "                                          target_size = (150,150),\n",
    "                                          class_mode = 'binary')"
   ]
  },
  {
   "cell_type": "code",
   "execution_count": 7,
   "id": "b6583fd5",
   "metadata": {},
   "outputs": [
    {
     "name": "stdout",
     "output_type": "stream",
     "text": [
      "Found 845 images belonging to 2 classes.\n"
     ]
    }
   ],
   "source": [
    "test_data = test_gen.flow_from_directory(test_dir,\n",
    "                                        batch_size = 13,\n",
    "                                        target_size = (150,150),\n",
    "                                        class_mode = 'binary')"
   ]
  },
  {
   "cell_type": "code",
   "execution_count": 8,
   "id": "6fef2f80",
   "metadata": {},
   "outputs": [
    {
     "name": "stdout",
     "output_type": "stream",
     "text": [
      "Found 641 images belonging to 2 classes.\n"
     ]
    }
   ],
   "source": [
    "val_data = val_gen.flow_from_directory(val_dir,\n",
    "                  target_size = (150,150),\n",
    "                  batch_size = 20,\n",
    "                  class_mode = 'binary')"
   ]
  },
  {
   "cell_type": "code",
   "execution_count": 9,
   "id": "bf297523",
   "metadata": {},
   "outputs": [],
   "source": [
    "#importing the google.net model\n",
    "from tensorflow.keras.applications import InceptionV3"
   ]
  },
  {
   "cell_type": "code",
   "execution_count": 10,
   "id": "c0506bc1",
   "metadata": {},
   "outputs": [],
   "source": [
    "Model = InceptionV3(input_shape = (150,150,3),\n",
    "                   weights = 'imagenet',\n",
    "                   include_top = False\n",
    "                   )#convlutional Base"
   ]
  },
  {
   "cell_type": "code",
   "execution_count": 11,
   "id": "8cfa8121",
   "metadata": {},
   "outputs": [],
   "source": [
    "from tensorflow.keras import layers\n",
    "from tensorflow.keras import Sequential"
   ]
  },
  {
   "cell_type": "code",
   "execution_count": 12,
   "id": "a449b2d7",
   "metadata": {},
   "outputs": [],
   "source": [
    "New_Model = Sequential()"
   ]
  },
  {
   "cell_type": "code",
   "execution_count": 13,
   "id": "72fdcbaa",
   "metadata": {},
   "outputs": [],
   "source": [
    "New_Model.add(Model)"
   ]
  },
  {
   "cell_type": "code",
   "execution_count": 14,
   "id": "a1c18da0",
   "metadata": {},
   "outputs": [
    {
     "name": "stdout",
     "output_type": "stream",
     "text": [
      "Model: \"sequential\"\n",
      "_________________________________________________________________\n",
      "Layer (type)                 Output Shape              Param #   \n",
      "=================================================================\n",
      "inception_v3 (Functional)    (None, 3, 3, 2048)        21802784  \n",
      "=================================================================\n",
      "Total params: 21,802,784\n",
      "Trainable params: 21,768,352\n",
      "Non-trainable params: 34,432\n",
      "_________________________________________________________________\n"
     ]
    }
   ],
   "source": [
    "New_Model.summary()"
   ]
  },
  {
   "cell_type": "code",
   "execution_count": 15,
   "id": "7a7447d0",
   "metadata": {},
   "outputs": [],
   "source": [
    "New_Model.add(layers.Flatten())"
   ]
  },
  {
   "cell_type": "code",
   "execution_count": 16,
   "id": "16e6bd96",
   "metadata": {},
   "outputs": [],
   "source": [
    "New_Model.add(layers.Dense(256,activation = 'relu'))"
   ]
  },
  {
   "cell_type": "code",
   "execution_count": 17,
   "id": "f5e626bc",
   "metadata": {},
   "outputs": [],
   "source": [
    "New_Model.add(layers.Dense(1,activation = 'sigmoid'))"
   ]
  },
  {
   "cell_type": "code",
   "execution_count": 18,
   "id": "08901810",
   "metadata": {},
   "outputs": [
    {
     "name": "stdout",
     "output_type": "stream",
     "text": [
      "Model: \"sequential\"\n",
      "_________________________________________________________________\n",
      "Layer (type)                 Output Shape              Param #   \n",
      "=================================================================\n",
      "inception_v3 (Functional)    (None, 3, 3, 2048)        21802784  \n",
      "_________________________________________________________________\n",
      "flatten (Flatten)            (None, 18432)             0         \n",
      "_________________________________________________________________\n",
      "dense (Dense)                (None, 256)               4718848   \n",
      "_________________________________________________________________\n",
      "dense_1 (Dense)              (None, 1)                 257       \n",
      "=================================================================\n",
      "Total params: 26,521,889\n",
      "Trainable params: 26,487,457\n",
      "Non-trainable params: 34,432\n",
      "_________________________________________________________________\n"
     ]
    }
   ],
   "source": [
    "New_Model.summary()"
   ]
  },
  {
   "cell_type": "code",
   "execution_count": 19,
   "id": "66bec7b3",
   "metadata": {},
   "outputs": [],
   "source": [
    "from tensorflow.keras import optimizers\n",
    "New_Model.compile(metrics = ['accuracy'],\n",
    "                 optimizer = optimizers.RMSprop(learning_rate = 2e-5),\n",
    "                 loss = 'binary_crossentropy')"
   ]
  },
  {
   "cell_type": "code",
   "execution_count": 20,
   "id": "b935eba1",
   "metadata": {},
   "outputs": [
    {
     "name": "stdout",
     "output_type": "stream",
     "text": [
      "Epoch 1/30\n",
      "235/235 [==============================] - 121s 339ms/step - loss: 0.5425 - accuracy: 0.7060 - val_loss: 0.4831 - val_accuracy: 0.7391\n",
      "Epoch 2/30\n",
      "235/235 [==============================] - 62s 265ms/step - loss: 0.4416 - accuracy: 0.7919 - val_loss: 0.4913 - val_accuracy: 0.8125\n",
      "Epoch 3/30\n",
      "235/235 [==============================] - 65s 275ms/step - loss: 0.3922 - accuracy: 0.8081 - val_loss: 0.2725 - val_accuracy: 0.8984\n",
      "Epoch 4/30\n",
      "235/235 [==============================] - 61s 258ms/step - loss: 0.3811 - accuracy: 0.8251 - val_loss: 0.2917 - val_accuracy: 0.9141\n",
      "Epoch 5/30\n",
      "235/235 [==============================] - 57s 244ms/step - loss: 0.3499 - accuracy: 0.8460 - val_loss: 0.4322 - val_accuracy: 0.8938\n",
      "Epoch 6/30\n",
      "235/235 [==============================] - 58s 245ms/step - loss: 0.3414 - accuracy: 0.8438 - val_loss: 0.4034 - val_accuracy: 0.9234\n",
      "Epoch 7/30\n",
      "235/235 [==============================] - 58s 246ms/step - loss: 0.3237 - accuracy: 0.8647 - val_loss: 0.2337 - val_accuracy: 0.9453\n",
      "Epoch 8/30\n",
      "235/235 [==============================] - 59s 251ms/step - loss: 0.2975 - accuracy: 0.8689 - val_loss: 0.2230 - val_accuracy: 0.9547\n",
      "Epoch 9/30\n",
      "235/235 [==============================] - 56s 240ms/step - loss: 0.2988 - accuracy: 0.8834 - val_loss: 0.1422 - val_accuracy: 0.9594\n",
      "Epoch 10/30\n",
      "235/235 [==============================] - 57s 244ms/step - loss: 0.2743 - accuracy: 0.8847 - val_loss: 0.2618 - val_accuracy: 0.9656\n",
      "Epoch 11/30\n",
      "235/235 [==============================] - 57s 241ms/step - loss: 0.2730 - accuracy: 0.8889 - val_loss: 0.1358 - val_accuracy: 0.9641\n",
      "Epoch 12/30\n",
      "235/235 [==============================] - 58s 247ms/step - loss: 0.2725 - accuracy: 0.8847 - val_loss: 0.1083 - val_accuracy: 0.9750\n",
      "Epoch 13/30\n",
      "235/235 [==============================] - 57s 244ms/step - loss: 0.2355 - accuracy: 0.9072 - val_loss: 0.1460 - val_accuracy: 0.9641\n",
      "Epoch 14/30\n",
      "235/235 [==============================] - 58s 246ms/step - loss: 0.2632 - accuracy: 0.8996 - val_loss: 0.1449 - val_accuracy: 0.9578\n",
      "Epoch 15/30\n",
      "235/235 [==============================] - 56s 237ms/step - loss: 0.2551 - accuracy: 0.8962 - val_loss: 0.1227 - val_accuracy: 0.9641\n",
      "Epoch 16/30\n",
      "235/235 [==============================] - 59s 251ms/step - loss: 0.2471 - accuracy: 0.9034 - val_loss: 0.1308 - val_accuracy: 0.9719\n",
      "Epoch 17/30\n",
      "235/235 [==============================] - 61s 257ms/step - loss: 0.2648 - accuracy: 0.9128 - val_loss: 0.1281 - val_accuracy: 0.9656\n",
      "Epoch 18/30\n",
      "235/235 [==============================] - 62s 263ms/step - loss: 0.2442 - accuracy: 0.9140 - val_loss: 0.1276 - val_accuracy: 0.9688\n",
      "Epoch 19/30\n",
      "235/235 [==============================] - 54s 228ms/step - loss: 0.2306 - accuracy: 0.9170 - val_loss: 0.1666 - val_accuracy: 0.9672\n",
      "Epoch 20/30\n",
      "235/235 [==============================] - 25s 108ms/step - loss: 0.2662 - accuracy: 0.9179 - val_loss: 0.1041 - val_accuracy: 0.9672\n",
      "Epoch 21/30\n",
      "235/235 [==============================] - 26s 109ms/step - loss: 0.2132 - accuracy: 0.9119 - val_loss: 0.2228 - val_accuracy: 0.9500\n",
      "Epoch 22/30\n",
      "235/235 [==============================] - 26s 109ms/step - loss: 0.2253 - accuracy: 0.9174 - val_loss: 0.1673 - val_accuracy: 0.9531\n",
      "Epoch 23/30\n",
      "235/235 [==============================] - 25s 108ms/step - loss: 0.2175 - accuracy: 0.9204 - val_loss: 0.1380 - val_accuracy: 0.9641\n",
      "Epoch 24/30\n",
      "235/235 [==============================] - 26s 109ms/step - loss: 0.1839 - accuracy: 0.9289 - val_loss: 0.0851 - val_accuracy: 0.9781\n",
      "Epoch 25/30\n",
      "235/235 [==============================] - 25s 108ms/step - loss: 0.2505 - accuracy: 0.9217 - val_loss: 0.1745 - val_accuracy: 0.9563\n",
      "Epoch 26/30\n",
      "235/235 [==============================] - 26s 109ms/step - loss: 0.2060 - accuracy: 0.9191 - val_loss: 0.1518 - val_accuracy: 0.9594\n",
      "Epoch 27/30\n",
      "235/235 [==============================] - 26s 109ms/step - loss: 0.1861 - accuracy: 0.9357 - val_loss: 0.1252 - val_accuracy: 0.9656\n",
      "Epoch 28/30\n",
      "235/235 [==============================] - 26s 109ms/step - loss: 0.1903 - accuracy: 0.9315 - val_loss: 0.0729 - val_accuracy: 0.9734\n",
      "Epoch 29/30\n",
      "235/235 [==============================] - 26s 109ms/step - loss: 0.1689 - accuracy: 0.9409 - val_loss: 0.0605 - val_accuracy: 0.9844\n",
      "Epoch 30/30\n",
      "235/235 [==============================] - 26s 109ms/step - loss: 0.2145 - accuracy: 0.9315 - val_loss: 0.1064 - val_accuracy: 0.9516\n"
     ]
    },
    {
     "data": {
      "text/plain": [
       "<tensorflow.python.keras.callbacks.History at 0x239cfb83340>"
      ]
     },
     "execution_count": 20,
     "metadata": {},
     "output_type": "execute_result"
    }
   ],
   "source": [
    "New_Model.fit(train_data,\n",
    "             steps_per_epoch = 235,\n",
    "             epochs = 30,\n",
    "             validation_data = val_data,\n",
    "             validation_steps = 32)"
   ]
  },
  {
   "cell_type": "code",
   "execution_count": 24,
   "id": "f2f3e208",
   "metadata": {},
   "outputs": [],
   "source": [
    "History = New_Model.history"
   ]
  },
  {
   "cell_type": "code",
   "execution_count": 26,
   "id": "52eb97f4",
   "metadata": {},
   "outputs": [
    {
     "data": {
      "image/png": "[encoded data removed]",
      "text/plain": [
       "<Figure size 720x720 with 1 Axes>"
      ]
     },
     "metadata": {
      "needs_background": "light"
     },
     "output_type": "display_data"
    }
   ],
   "source": [
    "df = pd.DataFrame(History.history).plot(figsize = (10,10))"
   ]
  },
  {
   "cell_type": "code",
   "execution_count": null,
   "id": "d5f747a8",
   "metadata": {},
   "outputs": [],
   "source": []
  }
 ],
 "metadata": {
  "kernelspec": {
   "display_name": "Python 3.9.4 64-bit",
   "language": "python",
   "name": "python3"
  },
  "language_info": {
   "codemirror_mode": {
    "name": "ipython",
    "version": 3
   },
   "file_extension": ".py",
   "mimetype": "text/x-python",
   "name": "python",
   "nbconvert_exporter": "python",
   "pygments_lexer": "ipython3",
   "version": "3.9.4"
  },
  "vscode": {
   "interpreter": {
    "hash": "2f6d1c6ff0c4ace2360782f803e4aed8a025f356f6e62cdde4d9240f61a18be3"
   }
  }
 },
 "nbformat": 4,
 "nbformat_minor": 5
}
